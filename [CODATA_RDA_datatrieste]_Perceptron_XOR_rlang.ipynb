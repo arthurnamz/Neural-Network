{
  "nbformat": 4,
  "nbformat_minor": 0,
  "metadata": {
    "colab": {
      "name": "[CODATA-RDA-datatrieste] Perceptron XOR-rlang.ipynb",
      "provenance": [],
      "include_colab_link": true
    },
    "kernelspec": {
      "name": "ir",
      "display_name": "R"
    },
    "language_info": {
      "name": "R"
    }
  },
  "cells": [
    {
      "cell_type": "markdown",
      "metadata": {
        "id": "view-in-github",
        "colab_type": "text"
      },
      "source": [
        "<a href=\"https://colab.research.google.com/github/arthurnamz/Neural-Network/blob/main/%5BCODATA_RDA_datatrieste%5D_Perceptron_XOR_rlang.ipynb\" target=\"_parent\"><img src=\"https://colab.research.google.com/assets/colab-badge.svg\" alt=\"Open In Colab\"/></a>"
      ]
    },
    {
      "cell_type": "markdown",
      "source": [
        "#Install keras  "
      ],
      "metadata": {
        "id": "_ZNiBcvxMvdD"
      }
    },
    {
      "cell_type": "code",
      "source": [
        "install.packages(\"keras\")"
      ],
      "metadata": {
        "colab": {
          "base_uri": "https://localhost:8080/"
        },
        "id": "FZRP7ZsmMzHb",
        "outputId": "54d3d90b-af6a-4a77-d0d3-81dbdfc0eafe"
      },
      "execution_count": 1,
      "outputs": [
        {
          "output_type": "stream",
          "name": "stderr",
          "text": [
            "Installing package into ‘/usr/local/lib/R/site-library’\n",
            "(as ‘lib’ is unspecified)\n",
            "\n",
            "also installing the dependencies ‘Rcpp’, ‘RcppTOML’, ‘here’, ‘png’, ‘config’, ‘tfautograph’, ‘reticulate’, ‘tensorflow’, ‘tfruns’, ‘zeallot’\n",
            "\n",
            "\n"
          ]
        }
      ]
    },
    {
      "cell_type": "markdown",
      "source": [
        "# Load the needed libraries"
      ],
      "metadata": {
        "id": "d-Cgbb_5M5qA"
      }
    },
    {
      "cell_type": "code",
      "source": [
        "library(keras)"
      ],
      "metadata": {
        "id": "gPfW9qbiM-HS"
      },
      "execution_count": 2,
      "outputs": []
    },
    {
      "cell_type": "markdown",
      "source": [
        "# Prepare dataset"
      ],
      "metadata": {
        "id": "BfsBC5BKNBPJ"
      }
    },
    {
      "cell_type": "code",
      "source": [
        "l1 = c(0,0,0)\n",
        "l2 = c(0,1,1)\n",
        "l3 = c(1,0,1)\n",
        "l4 = c(1,1,0)\n",
        "\n",
        "xor_truth_table = rbind(l1,l2,l3,l4)"
      ],
      "metadata": {
        "id": "7QTDk8yvxjIs"
      },
      "execution_count": 3,
      "outputs": []
    },
    {
      "cell_type": "code",
      "source": [
        "xor_truth_table"
      ],
      "metadata": {
        "colab": {
          "base_uri": "https://localhost:8080/",
          "height": 177
        },
        "id": "cWZ3bUeTNPwX",
        "outputId": "85f822c1-ea99-43a6-aec9-a438944b1706"
      },
      "execution_count": 4,
      "outputs": [
        {
          "output_type": "display_data",
          "data": {
            "text/html": [
              "<table class=\"dataframe\">\n",
              "<caption>A matrix: 4 × 3 of type dbl</caption>\n",
              "<tbody>\n",
              "\t<tr><th scope=row>l1</th><td>0</td><td>0</td><td>0</td></tr>\n",
              "\t<tr><th scope=row>l2</th><td>0</td><td>1</td><td>1</td></tr>\n",
              "\t<tr><th scope=row>l3</th><td>1</td><td>0</td><td>1</td></tr>\n",
              "\t<tr><th scope=row>l4</th><td>1</td><td>1</td><td>0</td></tr>\n",
              "</tbody>\n",
              "</table>\n"
            ],
            "text/markdown": "\nA matrix: 4 × 3 of type dbl\n\n| l1 | 0 | 0 | 0 |\n| l2 | 0 | 1 | 1 |\n| l3 | 1 | 0 | 1 |\n| l4 | 1 | 1 | 0 |\n\n",
            "text/latex": "A matrix: 4 × 3 of type dbl\n\\begin{tabular}{r|lll}\n\tl1 & 0 & 0 & 0\\\\\n\tl2 & 0 & 1 & 1\\\\\n\tl3 & 1 & 0 & 1\\\\\n\tl4 & 1 & 1 & 0\\\\\n\\end{tabular}\n",
            "text/plain": [
              "   [,1] [,2] [,3]\n",
              "l1 0    0    0   \n",
              "l2 0    1    1   \n",
              "l3 1    0    1   \n",
              "l4 1    1    0   "
            ]
          },
          "metadata": {}
        }
      ]
    },
    {
      "cell_type": "code",
      "source": [
        "train_x = xor_truth_table[,c(1,2)]\n",
        "train_y = xor_truth_table[,3]"
      ],
      "metadata": {
        "id": "r3vPJaSzOMgA"
      },
      "execution_count": 5,
      "outputs": []
    },
    {
      "cell_type": "code",
      "source": [
        "print(train_x)\n",
        "print(train_y)"
      ],
      "metadata": {
        "colab": {
          "base_uri": "https://localhost:8080/"
        },
        "id": "BHnx_qNqz_3s",
        "outputId": "e8875039-14b9-4cb1-c7a9-2b5fd0626230"
      },
      "execution_count": 6,
      "outputs": [
        {
          "output_type": "stream",
          "name": "stdout",
          "text": [
            "   [,1] [,2]\n",
            "l1    0    0\n",
            "l2    0    1\n",
            "l3    1    0\n",
            "l4    1    1\n",
            "l1 l2 l3 l4 \n",
            " 0  1  1  0 \n"
          ]
        }
      ]
    },
    {
      "cell_type": "markdown",
      "source": [
        "# Create a sequential model"
      ],
      "metadata": {
        "id": "ZecQSAGxNrRz"
      }
    },
    {
      "cell_type": "code",
      "source": [
        "# Instantiate the model\n",
        "model <- keras_model_sequential()"
      ],
      "metadata": {
        "id": "cAYKJ_HBN-hw",
        "colab": {
          "base_uri": "https://localhost:8080/"
        },
        "outputId": "0a2d7a0c-f3a8-402f-9ae4-f7ac320e7506"
      },
      "execution_count": 7,
      "outputs": [
        {
          "output_type": "stream",
          "name": "stderr",
          "text": [
            "Loaded Tensorflow version 2.8.2\n",
            "\n"
          ]
        }
      ]
    },
    {
      "cell_type": "code",
      "source": [
        "model <- model %>% layer_dense(units=1, input_shape=c(2))"
      ],
      "metadata": {
        "id": "n8sIu8sKN_ls"
      },
      "execution_count": 8,
      "outputs": []
    },
    {
      "cell_type": "code",
      "source": [
        "model %>% compile(loss = \"mean_squared_error\", optimizer = \"sgd\")"
      ],
      "metadata": {
        "id": "ZZGrtJ22OFUP"
      },
      "execution_count": 9,
      "outputs": []
    },
    {
      "cell_type": "code",
      "source": [
        "history <- model %>% fit(x = train_x, y = train_y, epochs = 200)"
      ],
      "metadata": {
        "id": "4woFum56OISN"
      },
      "execution_count": 10,
      "outputs": []
    },
    {
      "cell_type": "code",
      "source": [
        "plot(history)"
      ],
      "metadata": {
        "colab": {
          "base_uri": "https://localhost:8080/",
          "height": 437
        },
        "id": "lbbh9Lkv_hSq",
        "outputId": "87701894-e8ca-4cd9-a6ca-efa0ed672405"
      },
      "execution_count": 14,
      "outputs": [
        {
          "output_type": "display_data",
          "data": {
            "text/plain": [
              "plot without title"
            ],
            "image/png": "[encoded data removed]"
          },
          "metadata": {
            "image/png": {
              "width": 420,
              "height": 420
            }
          }
        }
      ]
    },
    {
      "cell_type": "code",
      "source": [
        "print(round(predict(model, train_x)))"
      ],
      "metadata": {
        "colab": {
          "base_uri": "https://localhost:8080/"
        },
        "id": "xJCouJy_OnZY",
        "outputId": "de5693e8-b116-4651-e35a-7932de49eb0d"
      },
      "execution_count": 12,
      "outputs": [
        {
          "output_type": "stream",
          "name": "stdout",
          "text": [
            "     [,1]\n",
            "[1,]    1\n",
            "[2,]    1\n",
            "[3,]    0\n",
            "[4,]    0\n"
          ]
        }
      ]
    },
    {
      "cell_type": "code",
      "source": [
        "print(train_y)"
      ],
      "metadata": {
        "colab": {
          "base_uri": "https://localhost:8080/"
        },
        "id": "iW_Yx75hoESd",
        "outputId": "27776fbd-da01-4655-c171-e207ed323583"
      },
      "execution_count": 13,
      "outputs": [
        {
          "output_type": "stream",
          "name": "stdout",
          "text": [
            "l1 l2 l3 l4 \n",
            " 0  1  1  0 \n"
          ]
        }
      ]
    }
  ]
}