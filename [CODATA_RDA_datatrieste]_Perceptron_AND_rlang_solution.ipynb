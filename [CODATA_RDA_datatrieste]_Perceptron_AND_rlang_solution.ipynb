{
  "nbformat": 4,
  "nbformat_minor": 0,
  "metadata": {
    "colab": {
      "name": "[CODATA-RDA-datatrieste] Perceptron AND-rlang-solution.ipynb",
      "provenance": [],
      "include_colab_link": true
    },
    "kernelspec": {
      "name": "ir",
      "display_name": "R"
    },
    "language_info": {
      "name": "R"
    }
  },
  "cells": [
    {
      "cell_type": "markdown",
      "metadata": {
        "id": "view-in-github",
        "colab_type": "text"
      },
      "source": [
        "<a href=\"https://colab.research.google.com/github/arthurnamz/Neural-Network/blob/main/%5BCODATA_RDA_datatrieste%5D_Perceptron_AND_rlang_solution.ipynb\" target=\"_parent\"><img src=\"https://colab.research.google.com/assets/colab-badge.svg\" alt=\"Open In Colab\"/></a>"
      ]
    },
    {
      "cell_type": "markdown",
      "source": [
        "#Install keras  "
      ],
      "metadata": {
        "id": "_ZNiBcvxMvdD"
      }
    },
    {
      "cell_type": "code",
      "source": [
        "install.packages(\"keras\")"
      ],
      "metadata": {
        "colab": {
          "base_uri": "https://localhost:8080/"
        },
        "id": "FZRP7ZsmMzHb",
        "outputId": "8ce9801c-2cf3-4eea-f64a-b67309ba864a"
      },
      "execution_count": 1,
      "outputs": [
        {
          "output_type": "stream",
          "name": "stderr",
          "text": [
            "Installing package into ‘/usr/local/lib/R/site-library’\n",
            "(as ‘lib’ is unspecified)\n",
            "\n",
            "also installing the dependencies ‘Rcpp’, ‘RcppTOML’, ‘here’, ‘png’, ‘config’, ‘tfautograph’, ‘reticulate’, ‘tensorflow’, ‘tfruns’, ‘zeallot’\n",
            "\n",
            "\n"
          ]
        }
      ]
    },
    {
      "cell_type": "markdown",
      "source": [
        "# Load the needed libraries"
      ],
      "metadata": {
        "id": "d-Cgbb_5M5qA"
      }
    },
    {
      "cell_type": "code",
      "source": [
        "library(keras)"
      ],
      "metadata": {
        "id": "gPfW9qbiM-HS"
      },
      "execution_count": 2,
      "outputs": []
    },
    {
      "cell_type": "markdown",
      "source": [
        "# Prepare dataset"
      ],
      "metadata": {
        "id": "BfsBC5BKNBPJ"
      }
    },
    {
      "cell_type": "code",
      "source": [
        "l1 = c(0,0,0)\n",
        "l2 = c(0,1,0)\n",
        "l3 = c(1,0,0)\n",
        "l4 = c(1,1,1)\n",
        "\n",
        "and_truth_table = rbind(l1,l2,l3,l4)"
      ],
      "metadata": {
        "id": "jVW1Vc11NEbn"
      },
      "execution_count": 3,
      "outputs": []
    },
    {
      "cell_type": "code",
      "source": [
        "and_truth_table"
      ],
      "metadata": {
        "colab": {
          "base_uri": "https://localhost:8080/",
          "height": 177
        },
        "id": "cWZ3bUeTNPwX",
        "outputId": "c79e5023-0cf5-449d-ffb8-3bba785c4e31"
      },
      "execution_count": 4,
      "outputs": [
        {
          "output_type": "display_data",
          "data": {
            "text/html": [
              "<table class=\"dataframe\">\n",
              "<caption>A matrix: 4 × 3 of type dbl</caption>\n",
              "<tbody>\n",
              "\t<tr><th scope=row>l1</th><td>0</td><td>0</td><td>0</td></tr>\n",
              "\t<tr><th scope=row>l2</th><td>0</td><td>1</td><td>0</td></tr>\n",
              "\t<tr><th scope=row>l3</th><td>1</td><td>0</td><td>0</td></tr>\n",
              "\t<tr><th scope=row>l4</th><td>1</td><td>1</td><td>1</td></tr>\n",
              "</tbody>\n",
              "</table>\n"
            ],
            "text/markdown": "\nA matrix: 4 × 3 of type dbl\n\n| l1 | 0 | 0 | 0 |\n| l2 | 0 | 1 | 0 |\n| l3 | 1 | 0 | 0 |\n| l4 | 1 | 1 | 1 |\n\n",
            "text/latex": "A matrix: 4 × 3 of type dbl\n\\begin{tabular}{r|lll}\n\tl1 & 0 & 0 & 0\\\\\n\tl2 & 0 & 1 & 0\\\\\n\tl3 & 1 & 0 & 0\\\\\n\tl4 & 1 & 1 & 1\\\\\n\\end{tabular}\n",
            "text/plain": [
              "   [,1] [,2] [,3]\n",
              "l1 0    0    0   \n",
              "l2 0    1    0   \n",
              "l3 1    0    0   \n",
              "l4 1    1    1   "
            ]
          },
          "metadata": {}
        }
      ]
    },
    {
      "cell_type": "code",
      "source": [
        "train_x = and_truth_table[,c(1,2)]\n",
        "train_y = and_truth_table[,3]"
      ],
      "metadata": {
        "id": "r3vPJaSzOMgA"
      },
      "execution_count": 5,
      "outputs": []
    },
    {
      "cell_type": "code",
      "source": [
        "print(train_x)\n",
        "print(train_y)"
      ],
      "metadata": {
        "colab": {
          "base_uri": "https://localhost:8080/"
        },
        "id": "BHnx_qNqz_3s",
        "outputId": "55e48b9e-d8d0-478d-e04d-f8638b449e2c"
      },
      "execution_count": 6,
      "outputs": [
        {
          "output_type": "stream",
          "name": "stdout",
          "text": [
            "   [,1] [,2]\n",
            "l1    0    0\n",
            "l2    0    1\n",
            "l3    1    0\n",
            "l4    1    1\n",
            "l1 l2 l3 l4 \n",
            " 0  0  0  1 \n"
          ]
        }
      ]
    },
    {
      "cell_type": "markdown",
      "source": [
        "# Create a sequential model"
      ],
      "metadata": {
        "id": "ZecQSAGxNrRz"
      }
    },
    {
      "cell_type": "code",
      "source": [
        "# Instantiate the model\n",
        "model <- keras_model_sequential()"
      ],
      "metadata": {
        "id": "cAYKJ_HBN-hw",
        "colab": {
          "base_uri": "https://localhost:8080/"
        },
        "outputId": "8348fcee-a02b-4b7f-cbdc-9f7d14e08974"
      },
      "execution_count": 7,
      "outputs": [
        {
          "output_type": "stream",
          "name": "stderr",
          "text": [
            "Loaded Tensorflow version 2.8.2\n",
            "\n"
          ]
        }
      ]
    },
    {
      "cell_type": "code",
      "source": [
        "model <- model %>% layer_dense(units=1, input_shape=c(2)) "
      ],
      "metadata": {
        "id": "n8sIu8sKN_ls"
      },
      "execution_count": 8,
      "outputs": []
    },
    {
      "cell_type": "code",
      "source": [
        "model %>% compile(loss = \"mean_squared_error\", optimizer = \"sgd\")"
      ],
      "metadata": {
        "id": "ZZGrtJ22OFUP"
      },
      "execution_count": 9,
      "outputs": []
    },
    {
      "cell_type": "code",
      "source": [
        "history <- model %>% fit(x = train_x, y = train_y, epochs = 200)"
      ],
      "metadata": {
        "id": "4woFum56OISN"
      },
      "execution_count": 10,
      "outputs": []
    },
    {
      "cell_type": "code",
      "source": [
        "plot(history)"
      ],
      "metadata": {
        "colab": {
          "base_uri": "https://localhost:8080/",
          "height": 437
        },
        "id": "lbbh9Lkv_hSq",
        "outputId": "00fe58a8-bfa6-4472-9022-29dc83599c42"
      },
      "execution_count": 11,
      "outputs": [
        {
          "output_type": "display_data",
          "data": {
            "text/plain": [
              "plot without title"
            ],
            "image/png": "[encoded data removed]"
          },
          "metadata": {
            "image/png": {
              "width": 420,
              "height": 420
            }
          }
        }
      ]
    },
    {
      "cell_type": "code",
      "source": [
        "round(predict(model, train_x))"
      ],
      "metadata": {
        "colab": {
          "base_uri": "https://localhost:8080/",
          "height": 247
        },
        "id": "xJCouJy_OnZY",
        "outputId": "a990b8da-27fb-433b-8d69-d07652aa9c0f"
      },
      "execution_count": 12,
      "outputs": [
        {
          "output_type": "display_data",
          "data": {
            "text/html": [
              "<table class=\"dataframe\">\n",
              "<caption>A matrix: 4 × 1 of type dbl</caption>\n",
              "<tbody>\n",
              "\t<tr><td>0</td></tr>\n",
              "\t<tr><td>0</td></tr>\n",
              "\t<tr><td>1</td></tr>\n",
              "\t<tr><td>1</td></tr>\n",
              "</tbody>\n",
              "</table>\n"
            ],
            "text/markdown": "\nA matrix: 4 × 1 of type dbl\n\n| 0 |\n| 0 |\n| 1 |\n| 1 |\n\n",
            "text/latex": "A matrix: 4 × 1 of type dbl\n\\begin{tabular}{l}\n\t 0\\\\\n\t 0\\\\\n\t 1\\\\\n\t 1\\\\\n\\end{tabular}\n",
            "text/plain": [
              "     [,1]\n",
              "[1,] 0   \n",
              "[2,] 0   \n",
              "[3,] 1   \n",
              "[4,] 1   "
            ]
          },
          "metadata": {}
        }
      ]
    },
    {
      "cell_type": "code",
      "source": [
        "train_y"
      ],
      "metadata": {
        "colab": {
          "base_uri": "https://localhost:8080/",
          "height": 34
        },
        "id": "iW_Yx75hoESd",
        "outputId": "f0b2fff5-878e-4401-cea6-e1394805dcb4"
      },
      "execution_count": 13,
      "outputs": [
        {
          "output_type": "display_data",
          "data": {
            "text/html": [
              "<style>\n",
              ".dl-inline {width: auto; margin:0; padding: 0}\n",
              ".dl-inline>dt, .dl-inline>dd {float: none; width: auto; display: inline-block}\n",
              ".dl-inline>dt::after {content: \":\\0020\"; padding-right: .5ex}\n",
              ".dl-inline>dt:not(:first-of-type) {padding-left: .5ex}\n",
              "</style><dl class=dl-inline><dt>l1</dt><dd>0</dd><dt>l2</dt><dd>0</dd><dt>l3</dt><dd>0</dd><dt>l4</dt><dd>1</dd></dl>\n"
            ],
            "text/markdown": "l1\n:   0l2\n:   0l3\n:   0l4\n:   1\n\n",
            "text/latex": "\\begin{description*}\n\\item[l1] 0\n\\item[l2] 0\n\\item[l3] 0\n\\item[l4] 1\n\\end{description*}\n",
            "text/plain": [
              "l1 l2 l3 l4 \n",
              " 0  0  0  1 "
            ]
          },
          "metadata": {}
        }
      ]
    }
  ]
}