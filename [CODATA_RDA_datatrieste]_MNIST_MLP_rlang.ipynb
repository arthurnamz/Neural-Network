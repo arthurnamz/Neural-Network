{
  "nbformat": 4,
  "nbformat_minor": 0,
  "metadata": {
    "colab": {
      "name": "[CODATA-RDA-datatrieste] MNIST MLP-rlang.ipynb",
      "provenance": [],
      "include_colab_link": true
    },
    "kernelspec": {
      "name": "ir",
      "display_name": "R"
    },
    "language_info": {
      "name": "R"
    }
  },
  "cells": [
    {
      "cell_type": "markdown",
      "metadata": {
        "id": "view-in-github",
        "colab_type": "text"
      },
      "source": [
        "<a href=\"https://colab.research.google.com/github/arthurnamz/Neural-Network/blob/main/%5BCODATA_RDA_datatrieste%5D_MNIST_MLP_rlang.ipynb\" target=\"_parent\"><img src=\"https://colab.research.google.com/assets/colab-badge.svg\" alt=\"Open In Colab\"/></a>"
      ]
    },
    {
      "cell_type": "markdown",
      "source": [
        "# MNIST Dataset classification"
      ],
      "metadata": {
        "id": "NHaDaXgTQiZc"
      }
    },
    {
      "cell_type": "markdown",
      "source": [
        "## Keras Installation (again) 😀"
      ],
      "metadata": {
        "id": "lq29CAgpQpdr"
      }
    },
    {
      "cell_type": "code",
      "source": [
        "install.packages(\"keras\")"
      ],
      "metadata": {
        "colab": {
          "base_uri": "https://localhost:8080/"
        },
        "id": "rr2Ar-_7QzMi",
        "outputId": "a4313e3c-2351-452b-ce24-c87ee635a3c9"
      },
      "execution_count": 1,
      "outputs": [
        {
          "output_type": "stream",
          "name": "stderr",
          "text": [
            "Installing package into ‘/usr/local/lib/R/site-library’\n",
            "(as ‘lib’ is unspecified)\n",
            "\n",
            "also installing the dependencies ‘Rcpp’, ‘RcppTOML’, ‘here’, ‘png’, ‘config’, ‘tfautograph’, ‘reticulate’, ‘tensorflow’, ‘tfruns’, ‘zeallot’\n",
            "\n",
            "\n"
          ]
        }
      ]
    },
    {
      "cell_type": "code",
      "source": [
        "library(keras)"
      ],
      "metadata": {
        "id": "ECDbZHunRoeK"
      },
      "execution_count": 2,
      "outputs": []
    },
    {
      "cell_type": "markdown",
      "source": [
        "## Load and prepare the dataset"
      ],
      "metadata": {
        "id": "ybQYvi-eQ3NK"
      }
    },
    {
      "cell_type": "code",
      "metadata": {
        "id": "BmVuEDSadsSW",
        "colab": {
          "base_uri": "https://localhost:8080/"
        },
        "outputId": "8a0a43fa-f1b1-403b-dd7a-b71fe3c033d2"
      },
      "source": [
        "#load MNIST, split into train and test sets\n",
        "mnist <- dataset_mnist()\n",
        "x_train <- mnist$train$x\n",
        "y_train <- mnist$train$y\n",
        "x_test <- mnist$test$x\n",
        "y_test <- mnist$test$y"
      ],
      "execution_count": 3,
      "outputs": [
        {
          "output_type": "stream",
          "name": "stderr",
          "text": [
            "Loaded Tensorflow version 2.8.2\n",
            "\n"
          ]
        }
      ]
    },
    {
      "cell_type": "markdown",
      "source": [
        "Let's inspect the dataset content. "
      ],
      "metadata": {
        "id": "3SoJXTWIRYAl"
      }
    },
    {
      "cell_type": "code",
      "source": [
        "dim(x_train)"
      ],
      "metadata": {
        "colab": {
          "base_uri": "https://localhost:8080/",
          "height": 34
        },
        "id": "0uKfKNQdR86b",
        "outputId": "8f19870e-27d2-44b9-ddd8-e6112b2a15b3"
      },
      "execution_count": 4,
      "outputs": [
        {
          "output_type": "display_data",
          "data": {
            "text/html": [
              "<style>\n",
              ".list-inline {list-style: none; margin:0; padding: 0}\n",
              ".list-inline>li {display: inline-block}\n",
              ".list-inline>li:not(:last-child)::after {content: \"\\00b7\"; padding: 0 .5ex}\n",
              "</style>\n",
              "<ol class=list-inline><li>60000</li><li>28</li><li>28</li></ol>\n"
            ],
            "text/markdown": "1. 60000\n2. 28\n3. 28\n\n\n",
            "text/latex": "\\begin{enumerate*}\n\\item 60000\n\\item 28\n\\item 28\n\\end{enumerate*}\n",
            "text/plain": [
              "[1] 60000    28    28"
            ]
          },
          "metadata": {}
        }
      ]
    },
    {
      "cell_type": "code",
      "source": [
        "hist(y_train)"
      ],
      "metadata": {
        "colab": {
          "base_uri": "https://localhost:8080/",
          "height": 437
        },
        "id": "QeeDL1PnSA3z",
        "outputId": "c71c360e-ac59-4f7e-eb4a-347a795a025c"
      },
      "execution_count": 5,
      "outputs": [
        {
          "output_type": "display_data",
          "data": {
            "text/plain": [
              "Plot with title “Histogram of y_train”"
            ],
            "image/png": "[encoded data removed]"
          },
          "metadata": {
            "image/png": {
              "width": 420,
              "height": 420
            }
          }
        }
      ]
    },
    {
      "cell_type": "code",
      "source": [
        "dim(x_test)"
      ],
      "metadata": {
        "colab": {
          "base_uri": "https://localhost:8080/",
          "height": 34
        },
        "id": "Ca89tSq-SLp4",
        "outputId": "8e3dd42b-b6c6-49c8-86b7-a637789e3b1d"
      },
      "execution_count": 6,
      "outputs": [
        {
          "output_type": "display_data",
          "data": {
            "text/html": [
              "<style>\n",
              ".list-inline {list-style: none; margin:0; padding: 0}\n",
              ".list-inline>li {display: inline-block}\n",
              ".list-inline>li:not(:last-child)::after {content: \"\\00b7\"; padding: 0 .5ex}\n",
              "</style>\n",
              "<ol class=list-inline><li>10000</li><li>28</li><li>28</li></ol>\n"
            ],
            "text/markdown": "1. 10000\n2. 28\n3. 28\n\n\n",
            "text/latex": "\\begin{enumerate*}\n\\item 10000\n\\item 28\n\\item 28\n\\end{enumerate*}\n",
            "text/plain": [
              "[1] 10000    28    28"
            ]
          },
          "metadata": {}
        }
      ]
    },
    {
      "cell_type": "code",
      "source": [
        "hist(y_test)"
      ],
      "metadata": {
        "colab": {
          "base_uri": "https://localhost:8080/",
          "height": 437
        },
        "id": "mBrNy7-eSRF9",
        "outputId": "cda7a216-0837-4a05-fe89-c087ff180ea4"
      },
      "execution_count": 7,
      "outputs": [
        {
          "output_type": "display_data",
          "data": {
            "text/plain": [
              "Plot with title “Histogram of y_test”"
            ],
            "image/png": "[encoded data removed]"
          },
          "metadata": {
            "image/png": {
              "width": 420,
              "height": 420
            }
          }
        }
      ]
    },
    {
      "cell_type": "markdown",
      "metadata": {
        "id": "PeErsJvfiWNQ"
      },
      "source": [
        "Let's inspect what the data points look like. \n",
        "This dataset stores numbers in a reverse way and upside-down. 😆"
      ]
    },
    {
      "cell_type": "code",
      "metadata": {
        "colab": {
          "base_uri": "https://localhost:8080/",
          "height": 1000
        },
        "id": "nwX5dNPshSPo",
        "outputId": "e372d998-7fb5-48cf-88d5-f234d436db2b"
      },
      "source": [
        "for (idx in 1:3) { \n",
        "    im <- x_train[idx,,]\n",
        "    im <- t(apply(im, 2, rev)) \n",
        "    image(im, col=gray((0:255)/255), xaxt='n', main=paste(y_train[idx]))\n",
        "}"
      ],
      "execution_count": 8,
      "outputs": [
        {
          "output_type": "display_data",
          "data": {
            "text/plain": [
              "Plot with title “5”"
            ],
            "image/png": "[encoded data removed]"
          },
          "metadata": {
            "image/png": {
              "width": 420,
              "height": 420
            }
          }
        },
        {
          "output_type": "display_data",
          "data": {
            "text/plain": [
              "Plot with title “0”"
            ],
            "image/png": "[encoded data removed]"
          },
          "metadata": {
            "image/png": {
              "width": 420,
              "height": 420
            }
          }
        },
        {
          "output_type": "display_data",
          "data": {
            "text/plain": [
              "Plot with title “4”"
            ],
            "image/png": "[encoded data removed]"
          },
          "metadata": {
            "image/png": {
              "width": 420,
              "height": 420
            }
          }
        }
      ]
    },
    {
      "cell_type": "markdown",
      "source": [
        "In order to feed our neural network we will transform the 28x28 image on a list of 784 pixels."
      ],
      "metadata": {
        "id": "eZc4GqxFV86u"
      }
    },
    {
      "cell_type": "code",
      "metadata": {
        "id": "ZeOCIftBFVXJ"
      },
      "source": [
        "# reshape: vectorize\n",
        "x_train <- array_reshape(x_train, c(nrow(x_train), 784))\n",
        "x_test <- array_reshape(x_test, c(nrow(x_test), 784))"
      ],
      "execution_count": 9,
      "outputs": []
    },
    {
      "cell_type": "code",
      "metadata": {
        "colab": {
          "base_uri": "https://localhost:8080/",
          "height": 34
        },
        "id": "TybwgDfwiqsX",
        "outputId": "49f349ff-d6e1-4046-d949-5c7bb1c46811"
      },
      "source": [
        "dim(x_train)"
      ],
      "execution_count": 10,
      "outputs": [
        {
          "output_type": "display_data",
          "data": {
            "text/html": [
              "<style>\n",
              ".list-inline {list-style: none; margin:0; padding: 0}\n",
              ".list-inline>li {display: inline-block}\n",
              ".list-inline>li:not(:last-child)::after {content: \"\\00b7\"; padding: 0 .5ex}\n",
              "</style>\n",
              "<ol class=list-inline><li>60000</li><li>784</li></ol>\n"
            ],
            "text/markdown": "1. 60000\n2. 784\n\n\n",
            "text/latex": "\\begin{enumerate*}\n\\item 60000\n\\item 784\n\\end{enumerate*}\n",
            "text/plain": [
              "[1] 60000   784"
            ]
          },
          "metadata": {}
        }
      ]
    },
    {
      "cell_type": "markdown",
      "source": [
        "We are performing a classification task, so we need to transform our target variable to a category (this is very important). We are using the [one-hot encoding technique](https://en.wikipedia.org/wiki/One-hot)."
      ],
      "metadata": {
        "id": "sH1H2xPmWSAq"
      }
    },
    {
      "cell_type": "code",
      "metadata": {
        "id": "5kgsBxHkGwdC"
      },
      "source": [
        "y_train <- to_categorical(y_train, 10); #60000 x 10\n",
        "y_test <- to_categorical(y_test, 10); #10000 x 10"
      ],
      "execution_count": 11,
      "outputs": []
    },
    {
      "cell_type": "code",
      "metadata": {
        "colab": {
          "base_uri": "https://localhost:8080/",
          "height": 240
        },
        "id": "y-WDskjYFFgG",
        "outputId": "c76d46a2-aa95-4fd7-d3d5-43a8e1d5ae7f"
      },
      "source": [
        "dim(y_train)\n",
        "head(y_train)"
      ],
      "execution_count": 12,
      "outputs": [
        {
          "output_type": "display_data",
          "data": {
            "text/html": [
              "<style>\n",
              ".list-inline {list-style: none; margin:0; padding: 0}\n",
              ".list-inline>li {display: inline-block}\n",
              ".list-inline>li:not(:last-child)::after {content: \"\\00b7\"; padding: 0 .5ex}\n",
              "</style>\n",
              "<ol class=list-inline><li>60000</li><li>10</li></ol>\n"
            ],
            "text/markdown": "1. 60000\n2. 10\n\n\n",
            "text/latex": "\\begin{enumerate*}\n\\item 60000\n\\item 10\n\\end{enumerate*}\n",
            "text/plain": [
              "[1] 60000    10"
            ]
          },
          "metadata": {}
        },
        {
          "output_type": "display_data",
          "data": {
            "text/html": [
              "<table class=\"dataframe\">\n",
              "<caption>A matrix: 6 × 10 of type dbl</caption>\n",
              "<tbody>\n",
              "\t<tr><td>0</td><td>0</td><td>0</td><td>0</td><td>0</td><td>1</td><td>0</td><td>0</td><td>0</td><td>0</td></tr>\n",
              "\t<tr><td>1</td><td>0</td><td>0</td><td>0</td><td>0</td><td>0</td><td>0</td><td>0</td><td>0</td><td>0</td></tr>\n",
              "\t<tr><td>0</td><td>0</td><td>0</td><td>0</td><td>1</td><td>0</td><td>0</td><td>0</td><td>0</td><td>0</td></tr>\n",
              "\t<tr><td>0</td><td>1</td><td>0</td><td>0</td><td>0</td><td>0</td><td>0</td><td>0</td><td>0</td><td>0</td></tr>\n",
              "\t<tr><td>0</td><td>0</td><td>0</td><td>0</td><td>0</td><td>0</td><td>0</td><td>0</td><td>0</td><td>1</td></tr>\n",
              "\t<tr><td>0</td><td>0</td><td>1</td><td>0</td><td>0</td><td>0</td><td>0</td><td>0</td><td>0</td><td>0</td></tr>\n",
              "</tbody>\n",
              "</table>\n"
            ],
            "text/markdown": "\nA matrix: 6 × 10 of type dbl\n\n| 0 | 0 | 0 | 0 | 0 | 1 | 0 | 0 | 0 | 0 |\n| 1 | 0 | 0 | 0 | 0 | 0 | 0 | 0 | 0 | 0 |\n| 0 | 0 | 0 | 0 | 1 | 0 | 0 | 0 | 0 | 0 |\n| 0 | 1 | 0 | 0 | 0 | 0 | 0 | 0 | 0 | 0 |\n| 0 | 0 | 0 | 0 | 0 | 0 | 0 | 0 | 0 | 1 |\n| 0 | 0 | 1 | 0 | 0 | 0 | 0 | 0 | 0 | 0 |\n\n",
            "text/latex": "A matrix: 6 × 10 of type dbl\n\\begin{tabular}{llllllllll}\n\t 0 & 0 & 0 & 0 & 0 & 1 & 0 & 0 & 0 & 0\\\\\n\t 1 & 0 & 0 & 0 & 0 & 0 & 0 & 0 & 0 & 0\\\\\n\t 0 & 0 & 0 & 0 & 1 & 0 & 0 & 0 & 0 & 0\\\\\n\t 0 & 1 & 0 & 0 & 0 & 0 & 0 & 0 & 0 & 0\\\\\n\t 0 & 0 & 0 & 0 & 0 & 0 & 0 & 0 & 0 & 1\\\\\n\t 0 & 0 & 1 & 0 & 0 & 0 & 0 & 0 & 0 & 0\\\\\n\\end{tabular}\n",
            "text/plain": [
              "     [,1] [,2] [,3] [,4] [,5] [,6] [,7] [,8] [,9] [,10]\n",
              "[1,] 0    0    0    0    0    1    0    0    0    0    \n",
              "[2,] 1    0    0    0    0    0    0    0    0    0    \n",
              "[3,] 0    0    0    0    1    0    0    0    0    0    \n",
              "[4,] 0    1    0    0    0    0    0    0    0    0    \n",
              "[5,] 0    0    0    0    0    0    0    0    0    1    \n",
              "[6,] 0    0    1    0    0    0    0    0    0    0    "
            ]
          },
          "metadata": {}
        }
      ]
    },
    {
      "cell_type": "markdown",
      "source": [
        "Now we will create a simple NN model to do the classification."
      ],
      "metadata": {
        "id": "vvDk6O3sXXy6"
      }
    },
    {
      "cell_type": "code",
      "metadata": {
        "id": "6vs-J07DFV-W"
      },
      "source": [
        "#initialize empty model\n",
        "model <- keras_model_sequential() \n",
        "\n",
        "#define model by a sequence of layers\n",
        "model %>% \n",
        "  #layer 1: fully connected, 8 hidden units, sigmoid nonlinearity\n",
        "  layer_dense(units = 8, activation = 'sigmoid', input_shape = c(784)) %>%\n",
        "  layer_dense(units = 10, activation = 'softmax')"
      ],
      "execution_count": 13,
      "outputs": []
    },
    {
      "cell_type": "markdown",
      "metadata": {
        "id": "-b5eV3BOMqWq"
      },
      "source": [
        "Model summary: Model has ~6,300 parameters, most of them in the first layer"
      ]
    },
    {
      "cell_type": "code",
      "metadata": {
        "id": "Vf5SvRxrDSeM",
        "colab": {
          "base_uri": "https://localhost:8080/"
        },
        "outputId": "2842f28a-744e-4f63-c0a5-3b7b41842ce0"
      },
      "source": [
        "summary(model)"
      ],
      "execution_count": 14,
      "outputs": [
        {
          "output_type": "stream",
          "name": "stdout",
          "text": [
            "Model: \"sequential\"\n",
            "________________________________________________________________________________\n",
            " Layer (type)                       Output Shape                    Param #     \n",
            "================================================================================\n",
            " dense_1 (Dense)                    (None, 8)                       6280        \n",
            " dense (Dense)                      (None, 10)                      90          \n",
            "================================================================================\n",
            "Total params: 6,370\n",
            "Trainable params: 6,370\n",
            "Non-trainable params: 0\n",
            "________________________________________________________________________________\n"
          ]
        }
      ]
    },
    {
      "cell_type": "markdown",
      "metadata": {
        "id": "UZNE0iDkhEkc"
      },
      "source": [
        "Now we will build our computational graph."
      ]
    },
    {
      "cell_type": "code",
      "metadata": {
        "id": "3MDqHRxRkgNW"
      },
      "source": [
        "# compile model\n",
        "model %>% compile(\n",
        "  loss = 'mse',\n",
        "  optimizer = \"sgd\", \n",
        "  metrics = c('accuracy')\n",
        ")"
      ],
      "execution_count": 15,
      "outputs": []
    },
    {
      "cell_type": "markdown",
      "metadata": {
        "id": "tppAbHVwNrRT"
      },
      "source": [
        "Now is the training part"
      ]
    },
    {
      "cell_type": "code",
      "metadata": {
        "id": "mOzyC5KGG0hl"
      },
      "source": [
        "history <- model %>% fit(\n",
        "  x_train, y_train, \n",
        "  #5 epochs\n",
        "  epochs = 50\n",
        ")"
      ],
      "execution_count": 20,
      "outputs": []
    },
    {
      "cell_type": "markdown",
      "source": [
        "Let's take a look at the learning curve of our NN trainning. "
      ],
      "metadata": {
        "id": "-fqlLJcTZLva"
      }
    },
    {
      "cell_type": "code",
      "metadata": {
        "id": "SupAC3whR5b4",
        "colab": {
          "base_uri": "https://localhost:8080/",
          "height": 437
        },
        "outputId": "1d80e768-0fa8-4d1b-cfc4-7aff2e02ca5a"
      },
      "source": [
        "plot(history)"
      ],
      "execution_count": 17,
      "outputs": [
        {
          "output_type": "display_data",
          "data": {
            "text/plain": [
              "plot without title"
            ],
            "image/png": "[encoded data removed]"
          },
          "metadata": {
            "image/png": {
              "width": 420,
              "height": 420
            }
          }
        }
      ]
    },
    {
      "cell_type": "markdown",
      "source": [
        "Now it is the time to check how good our model is against data it has never seen before."
      ],
      "metadata": {
        "id": "9MdCDQU5ZT5p"
      }
    },
    {
      "cell_type": "code",
      "metadata": {
        "id": "-Lgr8q1LR6uv",
        "colab": {
          "base_uri": "https://localhost:8080/",
          "height": 34
        },
        "outputId": "0c6f5273-e823-425b-dfa5-d3fbe6a9cc80"
      },
      "source": [
        "model %>% evaluate(x_test, y_test)"
      ],
      "execution_count": 18,
      "outputs": [
        {
          "output_type": "display_data",
          "data": {
            "text/html": [
              "<style>\n",
              ".dl-inline {width: auto; margin:0; padding: 0}\n",
              ".dl-inline>dt, .dl-inline>dd {float: none; width: auto; display: inline-block}\n",
              ".dl-inline>dt::after {content: \":\\0020\"; padding-right: .5ex}\n",
              ".dl-inline>dt:not(:first-of-type) {padding-left: .5ex}\n",
              "</style><dl class=dl-inline><dt>loss</dt><dd>0.0728291124105453</dd><dt>accuracy</dt><dd>0.51690000295639</dd></dl>\n"
            ],
            "text/markdown": "loss\n:   0.0728291124105453accuracy\n:   0.51690000295639\n\n",
            "text/latex": "\\begin{description*}\n\\item[loss] 0.0728291124105453\n\\item[accuracy] 0.51690000295639\n\\end{description*}\n",
            "text/plain": [
              "      loss   accuracy \n",
              "0.07282911 0.51690000 "
            ]
          },
          "metadata": {}
        }
      ]
    },
    {
      "cell_type": "markdown",
      "metadata": {
        "id": "dZFMpQWvOI5g"
      },
      "source": [
        "base model, 5 epochs\n",
        "accuracy ~0.5\n",
        "\n",
        "Can we do better?\n",
        "\n",
        "Try changing:\n",
        "- architecture\n",
        "    - add layers (deep)\n",
        "    - add dropouts\n",
        "- training\n",
        "    - other optimizers (e.g., Adam, RMSProp)\n",
        "    - more epochs\n",
        "\n"
      ]
    },
    {
      "cell_type": "code",
      "metadata": {
        "id": "YWUy799rR8Lj",
        "colab": {
          "base_uri": "https://localhost:8080/",
          "height": 34
        },
        "outputId": "cba22998-8829-4ac2-d270-4a8c1d2c9822"
      },
      "source": [
        "model %>% predict(x_test) %>% k_argmax()"
      ],
      "execution_count": 19,
      "outputs": [
        {
          "output_type": "display_data",
          "data": {
            "text/plain": [
              "tf.Tensor([7 6 1 ... 4 6 6], shape=(10000), dtype=int64)"
            ]
          },
          "metadata": {}
        }
      ]
    }
  ]
}