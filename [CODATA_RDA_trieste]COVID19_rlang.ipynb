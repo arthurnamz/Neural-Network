{
  "nbformat": 4,
  "nbformat_minor": 0,
  "metadata": {
    "colab": {
      "name": "[CODATA-RDA-trieste]COVID19-rlang.ipynb",
      "provenance": [],
      "collapsed_sections": [],
      "include_colab_link": true
    },
    "kernelspec": {
      "name": "ir",
      "display_name": "R"
    },
    "language_info": {
      "name": "R"
    }
  },
  "cells": [
    {
      "cell_type": "markdown",
      "metadata": {
        "id": "view-in-github",
        "colab_type": "text"
      },
      "source": [
        "<a href=\"https://colab.research.google.com/github/arthurnamz/Neural-Network/blob/main/%5BCODATA_RDA_trieste%5DCOVID19_rlang.ipynb\" target=\"_parent\"><img src=\"https://colab.research.google.com/assets/colab-badge.svg\" alt=\"Open In Colab\"/></a>"
      ]
    },
    {
      "cell_type": "markdown",
      "source": [
        "# Covid diagnosis dataset"
      ],
      "metadata": {
        "id": "ixAIRTDwCfzv"
      }
    },
    {
      "cell_type": "markdown",
      "source": [
        "## Preparing the enviroment\n",
        "\n",
        "We will need a set of libraries for manipulating the data. This session takes some time to run, so you only need to run it once."
      ],
      "metadata": {
        "id": "1bqs63PIdL6f"
      }
    },
    {
      "cell_type": "code",
      "source": [
        "install.packages(\"keras\")"
      ],
      "metadata": {
        "colab": {
          "base_uri": "https://localhost:8080/"
        },
        "id": "oV-w51qrCmNJ",
        "outputId": "435644af-e179-44e7-c0ba-c9aff027855a"
      },
      "execution_count": null,
      "outputs": [
        {
          "output_type": "stream",
          "name": "stderr",
          "text": [
            "Installing package into ‘/usr/local/lib/R/site-library’\n",
            "(as ‘lib’ is unspecified)\n",
            "\n"
          ]
        }
      ]
    },
    {
      "cell_type": "code",
      "source": [
        "install.packages(\"caret\")"
      ],
      "metadata": {
        "colab": {
          "base_uri": "https://localhost:8080/"
        },
        "id": "i2vKJTygqAGl",
        "outputId": "aaacf21e-3507-4999-be63-a6832b2ed12b"
      },
      "execution_count": null,
      "outputs": [
        {
          "output_type": "stream",
          "name": "stderr",
          "text": [
            "Installing package into ‘/usr/local/lib/R/site-library’\n",
            "(as ‘lib’ is unspecified)\n",
            "\n"
          ]
        }
      ]
    },
    {
      "cell_type": "markdown",
      "source": [
        "## Loading libraries"
      ],
      "metadata": {
        "id": "rM1Zq_BEdhFv"
      }
    },
    {
      "cell_type": "code",
      "source": [
        "library(keras)\n",
        "library(caret)"
      ],
      "metadata": {
        "colab": {
          "base_uri": "https://localhost:8080/"
        },
        "id": "83iaoja-c7dt",
        "outputId": "e1faa8e7-af90-42a9-e78c-333069600d07"
      },
      "execution_count": null,
      "outputs": [
        {
          "output_type": "stream",
          "name": "stderr",
          "text": [
            "Loading required package: lattice\n",
            "\n",
            "Warning message in system(\"timedatectl\", intern = TRUE):\n",
            "“running command 'timedatectl' had status 1”\n"
          ]
        }
      ]
    },
    {
      "cell_type": "markdown",
      "source": [
        "The Following line is used to setup the size of images displayed within a Notebook."
      ],
      "metadata": {
        "id": "Gt8qY2HcqCaJ"
      }
    },
    {
      "cell_type": "code",
      "source": [
        "library(repr)\n",
        "options(repr.plot.width=8, repr.plot.height=5)"
      ],
      "metadata": {
        "id": "_aRXbd_8cmmW"
      },
      "execution_count": null,
      "outputs": []
    },
    {
      "cell_type": "markdown",
      "source": [
        "## Dataset setup"
      ],
      "metadata": {
        "id": "VUWJNcFuC0-b"
      }
    },
    {
      "cell_type": "markdown",
      "source": [
        "For this project we'll use the [SARS-CoV-2 CT scan dataset](https://www.kaggle.com/datasets/plameneduardo/sarscov2-ctscan-dataset), containing 1252 CT scans that are positive for SARS-CoV-2 infection (COVID-19) and 1230 CT scans for patients non-infected by SARS-CoV-2, 2482 CT scans in total. These data have been collected from real patients in hospitals from Sao Paulo, Brazil. The aim of this dataset is to encourage the research and development of artificial intelligent methods which are able to identify if a person is infected by SARS-CoV-2 through the analysis of his/her CT scans."
      ],
      "metadata": {
        "id": "3mK602eRdldA"
      }
    },
    {
      "cell_type": "code",
      "source": [
        "download.file(\"https://www.dropbox.com/s/qud4rxiht5guk0g/COVID%20CTs.zip?dl=1\", \"./COVID19_CTs.zip\")"
      ],
      "metadata": {
        "id": "U9uc9F64C31l"
      },
      "execution_count": null,
      "outputs": []
    },
    {
      "cell_type": "code",
      "source": [
        "unzip(\"./COVID19_CTs.zip\", exdir = \"COVID19_CTs\")"
      ],
      "metadata": {
        "id": "ZiNnI2xLC6MK"
      },
      "execution_count": null,
      "outputs": []
    },
    {
      "cell_type": "markdown",
      "source": [
        "### Auxiliary function\n",
        "This function is used to preprocess the data:\n",
        "1. Load an image from a file;\n",
        "1. Convert the binary data to an array of numbers;\n",
        "1. Resize it to 100x100 pixels images;\n",
        "1. Normalize the data;"
      ],
      "metadata": {
        "id": "cHoXiKU9ewFC"
      }
    },
    {
      "cell_type": "code",
      "source": [
        "process_pix <- function(lsf) {\n",
        "  img <- lapply(lsf, image_load, grayscale = TRUE) # grayscale the image\n",
        "  arr <- lapply(img, image_to_array) # turns it into an array\n",
        "  arr_resized <- lapply(arr, image_array_resize, \n",
        "                        height = 100, \n",
        "                        width = 100) # resize\n",
        "  arr_normalized <- normalize(arr_resized, axis = 1) #normalize to make small numbers \n",
        "  return(arr_normalized)\n",
        "}"
      ],
      "metadata": {
        "id": "dIQI8AikC8Sq"
      },
      "execution_count": null,
      "outputs": []
    },
    {
      "cell_type": "markdown",
      "source": [
        "### Load and preprocess the data"
      ],
      "metadata": {
        "id": "k8iTaSV3fXRU"
      }
    },
    {
      "cell_type": "code",
      "source": [
        "# with covid\n",
        "lsf <- list.files(\"COVID19_CTs/COVID/\", full.names = TRUE) # List all files within a directory\n",
        "covid <- process_pix(lsf) # Apply the process function"
      ],
      "metadata": {
        "colab": {
          "base_uri": "https://localhost:8080/"
        },
        "id": "N_ldJImxfwvn",
        "outputId": "3c6eb347-3730-4483-94b8-afe11f87aea6"
      },
      "execution_count": null,
      "outputs": [
        {
          "output_type": "stream",
          "name": "stderr",
          "text": [
            "Loaded Tensorflow version 2.8.2\n",
            "\n"
          ]
        }
      ]
    },
    {
      "cell_type": "markdown",
      "source": [
        "When dealing with images, usually with have information for the RGB 3 channels. These are grayscale images, thus, we don't need to keep and extra dimension for the data."
      ],
      "metadata": {
        "id": "Fn0CmvAEgHip"
      }
    },
    {
      "cell_type": "code",
      "source": [
        "dim(covid)"
      ],
      "metadata": {
        "colab": {
          "base_uri": "https://localhost:8080/",
          "height": 34
        },
        "id": "EYXbNjmcfyO0",
        "outputId": "26e5a9de-2a62-4f2d-9002-4a1ca8fdeb6b"
      },
      "execution_count": null,
      "outputs": [
        {
          "output_type": "display_data",
          "data": {
            "text/html": [
              "<style>\n",
              ".list-inline {list-style: none; margin:0; padding: 0}\n",
              ".list-inline>li {display: inline-block}\n",
              ".list-inline>li:not(:last-child)::after {content: \"\\00b7\"; padding: 0 .5ex}\n",
              "</style>\n",
              "<ol class=list-inline><li>1252</li><li>100</li><li>100</li><li>1</li></ol>\n"
            ],
            "text/markdown": "1. 1252\n2. 100\n3. 100\n4. 1\n\n\n",
            "text/latex": "\\begin{enumerate*}\n\\item 1252\n\\item 100\n\\item 100\n\\item 1\n\\end{enumerate*}\n",
            "text/plain": [
              "[1] 1252  100  100    1"
            ]
          },
          "metadata": {}
        }
      ]
    },
    {
      "cell_type": "code",
      "source": [
        "covid <- covid[,,,1] # get rid of last dim\n",
        "covid_reshaped <- array_reshape(covid, c(nrow(covid), 100*100)) # Create a 2d matrix from the data"
      ],
      "metadata": {
        "id": "CymqIHp0DCBo"
      },
      "execution_count": null,
      "outputs": []
    },
    {
      "cell_type": "markdown",
      "source": [
        "Now we do the same steps with the images for patients without COVID19"
      ],
      "metadata": {
        "id": "InJd-rK_geqD"
      }
    },
    {
      "cell_type": "code",
      "source": [
        "# without covid\n",
        "lsf <- list.files(\"COVID19_CTs/non-COVID/\", full.names = TRUE) \n",
        "ncovid <- process_pix(lsf)\n",
        "ncovid <- ncovid[,,,1] # get rid of last dim\n",
        "ncovid_reshaped <- array_reshape(ncovid, c(nrow(ncovid), 100*100))"
      ],
      "metadata": {
        "id": "pcLdY2ilgczU"
      },
      "execution_count": null,
      "outputs": []
    },
    {
      "cell_type": "markdown",
      "source": [
        "Now, let's take a look at what the images for COVID19 and non-COVID19 look like:"
      ],
      "metadata": {
        "id": "h88qKqmbkzRv"
      }
    },
    {
      "cell_type": "code",
      "source": [
        "image(t(apply(covid[10,,],2,rev)), main = \"COVID19 Patient\", \n",
        "      axes=FALSE, col = gray.colors(12))\n",
        "image(t(apply(ncovid[10,,],2,rev)), main = \"Non-COVID19 Patient\", \n",
        "      axes=FALSE, col = gray.colors(12))"
      ],
      "metadata": {
        "colab": {
          "base_uri": "https://localhost:8080/",
          "height": 617
        },
        "id": "x43d07Bnhu7F",
        "outputId": "940d1d0a-3818-4932-c280-63d6b3418dc9"
      },
      "execution_count": null,
      "outputs": [
        {
          "output_type": "display_data",
          "data": {
            "text/plain": [
              "Plot with title “COVID19 Patient”"
            ],
            "image/png": "[encoded data removed]"
          },
          "metadata": {
            "image/png": {
              "width": 480,
              "height": 300
            }
          }
        },
        {
          "output_type": "display_data",
          "data": {
            "text/plain": [
              "Plot with title “Non-COVID19 Patient”"
            ],
            "image/png": "[encoded data removed]"
          },
          "metadata": {
            "image/png": {
              "width": 480,
              "height": 300
            }
          }
        }
      ]
    },
    {
      "cell_type": "markdown",
      "source": [
        "Now we put all the data together and shuffle it."
      ],
      "metadata": {
        "id": "w0LcVZeUmyZ-"
      }
    },
    {
      "cell_type": "code",
      "source": [
        "df <- rbind(cbind(covid_reshaped, 1), # 1 = covid\n",
        "            cbind(ncovid_reshaped, 0)) # 0 = no covid\n",
        "set.seed(1234)\n",
        "shuffle <- sample(nrow(df), replace = F)\n",
        "df <- df[shuffle, ]"
      ],
      "metadata": {
        "id": "OU7GsdpiDaUg"
      },
      "execution_count": null,
      "outputs": []
    },
    {
      "cell_type": "markdown",
      "source": [
        "Split the data into train and test"
      ],
      "metadata": {
        "id": "-rSIMfR6pXs8"
      }
    },
    {
      "cell_type": "code",
      "source": [
        "set.seed(2022)\n",
        "split <- sample(2, nrow(df), replace = T, prob = c(0.7, 0.2))\n",
        "train <- df[split == 1,c(1:1000)]\n",
        "test <- df[split == 2,c(1:1000)]\n",
        "train_target <- df[split == 1, 10001] # label in training dataset\n",
        "test_target <- df[split == 2, 10001] # label in testing dataset"
      ],
      "metadata": {
        "id": "u6KoWCl8DbGU"
      },
      "execution_count": null,
      "outputs": []
    },
    {
      "cell_type": "code",
      "source": [
        "dim(train)\n",
        "dim(test)"
      ],
      "metadata": {
        "colab": {
          "base_uri": "https://localhost:8080/",
          "height": 52
        },
        "id": "l53O97BzpiMJ",
        "outputId": "d6b93ccc-1525-4ba2-ab15-e95a3f0205d2"
      },
      "execution_count": null,
      "outputs": [
        {
          "output_type": "display_data",
          "data": {
            "text/html": [
              "<style>\n",
              ".list-inline {list-style: none; margin:0; padding: 0}\n",
              ".list-inline>li {display: inline-block}\n",
              ".list-inline>li:not(:last-child)::after {content: \"\\00b7\"; padding: 0 .5ex}\n",
              "</style>\n",
              "<ol class=list-inline><li>1927</li><li>1000</li></ol>\n"
            ],
            "text/markdown": "1. 1927\n2. 1000\n\n\n",
            "text/latex": "\\begin{enumerate*}\n\\item 1927\n\\item 1000\n\\end{enumerate*}\n",
            "text/plain": [
              "[1] 1927 1000"
            ]
          },
          "metadata": {}
        },
        {
          "output_type": "display_data",
          "data": {
            "text/html": [
              "<style>\n",
              ".list-inline {list-style: none; margin:0; padding: 0}\n",
              ".list-inline>li {display: inline-block}\n",
              ".list-inline>li:not(:last-child)::after {content: \"\\00b7\"; padding: 0 .5ex}\n",
              "</style>\n",
              "<ol class=list-inline><li>554</li><li>1000</li></ol>\n"
            ],
            "text/markdown": "1. 554\n2. 1000\n\n\n",
            "text/latex": "\\begin{enumerate*}\n\\item 554\n\\item 1000\n\\end{enumerate*}\n",
            "text/plain": [
              "[1]  554 1000"
            ]
          },
          "metadata": {}
        }
      ]
    },
    {
      "cell_type": "markdown",
      "source": [
        "## Model Building and Trainning"
      ],
      "metadata": {
        "id": "CS8QpV86ppFE"
      }
    },
    {
      "cell_type": "code",
      "source": [
        "model <- keras_model_sequential() %>%\n",
        "  layer_dense(units = 64, activation = \"relu\", input_shape = c(1000)) %>% \n",
        "  layer_dropout(0.2) %>%\n",
        "  layer_dense(units = 2, activation = 'softmax')"
      ],
      "metadata": {
        "id": "C9PUDPOmDd1A"
      },
      "execution_count": null,
      "outputs": []
    },
    {
      "cell_type": "code",
      "source": [
        "model %>%\n",
        "  compile(optimizer = 'adam',\n",
        "          loss = 'binary_crossentropy', \n",
        "          metrics = c('accuracy'))"
      ],
      "metadata": {
        "id": "-LgVZ_5CF964"
      },
      "execution_count": null,
      "outputs": []
    },
    {
      "cell_type": "markdown",
      "source": [
        "Model has ~ 64000 parameters to learn"
      ],
      "metadata": {
        "id": "Xp7kgEXkq-w3"
      }
    },
    {
      "cell_type": "code",
      "source": [
        "summary(model)"
      ],
      "metadata": {
        "colab": {
          "base_uri": "https://localhost:8080/"
        },
        "id": "1gKlC19hqwb8",
        "outputId": "912e3280-6a12-4fb9-80dd-87cde53072d5"
      },
      "execution_count": null,
      "outputs": [
        {
          "output_type": "stream",
          "name": "stdout",
          "text": [
            "Model: \"sequential\"\n",
            "________________________________________________________________________________\n",
            " Layer (type)                       Output Shape                    Param #     \n",
            "================================================================================\n",
            " dense_1 (Dense)                    (None, 64)                      64064       \n",
            " dropout (Dropout)                  (None, 64)                      0           \n",
            " dense (Dense)                      (None, 2)                       130         \n",
            "================================================================================\n",
            "Total params: 64,194\n",
            "Trainable params: 64,194\n",
            "Non-trainable params: 0\n",
            "________________________________________________________________________________\n"
          ]
        }
      ]
    },
    {
      "cell_type": "markdown",
      "source": [
        "Now we do the [one hot encoding](https://en.wikipedia.org/wiki/One-hot) of our output variable."
      ],
      "metadata": {
        "id": "8IBBbU13qYD0"
      }
    },
    {
      "cell_type": "code",
      "source": [
        "train_label <- to_categorical(train_target) \n",
        "test_label <- to_categorical(test_target)"
      ],
      "metadata": {
        "id": "hUTJIqdhDelN"
      },
      "execution_count": null,
      "outputs": []
    },
    {
      "cell_type": "code",
      "source": [
        "fit_covid <- model %>%\n",
        "  fit(x = train,\n",
        "      y = train_label, \n",
        "      epochs = 10,\n",
        "      batch_size = 16,\n",
        "      verbose = 1,\n",
        "      validation_split = 0.2)"
      ],
      "metadata": {
        "id": "2eCMigBZDhO5"
      },
      "execution_count": null,
      "outputs": []
    },
    {
      "cell_type": "code",
      "source": [
        "plot(fit_covid)"
      ],
      "metadata": {
        "colab": {
          "base_uri": "https://localhost:8080/",
          "height": 317
        },
        "id": "83f8_C9TDlkB",
        "outputId": "5629a0e3-1d6b-4d29-a2d9-be1171e4d678"
      },
      "execution_count": null,
      "outputs": [
        {
          "output_type": "display_data",
          "data": {
            "text/plain": [
              "plot without title"
            ],
            "image/png": "[encoded data removed]"
          },
          "metadata": {
            "image/png": {
              "width": 480,
              "height": 300
            }
          }
        }
      ]
    },
    {
      "cell_type": "markdown",
      "source": [
        "## Model Evaluation"
      ],
      "metadata": {
        "id": "1g9YVvsuqNTp"
      }
    },
    {
      "cell_type": "code",
      "source": [
        "model %>%\n",
        "  evaluate(test, test_label)"
      ],
      "metadata": {
        "colab": {
          "base_uri": "https://localhost:8080/",
          "height": 34
        },
        "id": "o0CtcqriDnaG",
        "outputId": "4f799db2-e989-49b5-f8a3-38665da1ab75"
      },
      "execution_count": null,
      "outputs": [
        {
          "output_type": "display_data",
          "data": {
            "text/html": [
              "<style>\n",
              ".dl-inline {width: auto; margin:0; padding: 0}\n",
              ".dl-inline>dt, .dl-inline>dd {float: none; width: auto; display: inline-block}\n",
              ".dl-inline>dt::after {content: \":\\0020\"; padding-right: .5ex}\n",
              ".dl-inline>dt:not(:first-of-type) {padding-left: .5ex}\n",
              "</style><dl class=dl-inline><dt>loss</dt><dd>0.692951261997223</dd><dt>accuracy</dt><dd>0.501805067062378</dd></dl>\n"
            ],
            "text/markdown": "loss\n:   0.692951261997223accuracy\n:   0.501805067062378\n\n",
            "text/latex": "\\begin{description*}\n\\item[loss] 0.692951261997223\n\\item[accuracy] 0.501805067062378\n\\end{description*}\n",
            "text/plain": [
              "     loss  accuracy \n",
              "0.6929513 0.5018051 "
            ]
          },
          "metadata": {}
        }
      ]
    },
    {
      "cell_type": "markdown",
      "source": [
        "Test our model by doing a prediction on the test partition than build a confusion matrix"
      ],
      "metadata": {
        "id": "FkZksVV7rRmV"
      }
    },
    {
      "cell_type": "code",
      "source": [
        "predictions <- model %>% predict(test) %>% k_argmax()\n",
        "expected_value <- test_label %>% k_argmax()"
      ],
      "metadata": {
        "id": "RdloTSqCEAy7"
      },
      "execution_count": null,
      "outputs": []
    },
    {
      "cell_type": "code",
      "source": [
        "# Need to convert data to factor\n",
        "predictions <- factor(as.array(predictions))\n",
        "expected_value <- factor(as.array(expected_value))\n",
        "#Display results in a Confusion Matrix\n",
        "confusionMatrix(data=predictions, reference = expected_value)"
      ],
      "metadata": {
        "colab": {
          "base_uri": "https://localhost:8080/",
          "height": 520
        },
        "id": "Wh1-CgueEMNm",
        "outputId": "2e87d378-67a4-4135-93ad-1aad30605641"
      },
      "execution_count": null,
      "outputs": [
        {
          "output_type": "stream",
          "name": "stderr",
          "text": [
            "Warning message in confusionMatrix.default(data = predictions, reference = expected_value):\n",
            "“Levels are not in the same order for reference and data. Refactoring data to match.”\n"
          ]
        },
        {
          "output_type": "display_data",
          "data": {
            "text/plain": [
              "Confusion Matrix and Statistics\n",
              "\n",
              "          Reference\n",
              "Prediction   0   1\n",
              "         0   0   0\n",
              "         1 276 278\n",
              "                                          \n",
              "               Accuracy : 0.5018          \n",
              "                 95% CI : (0.4594, 0.5442)\n",
              "    No Information Rate : 0.5018          \n",
              "    P-Value [Acc > NIR] : 0.517           \n",
              "                                          \n",
              "                  Kappa : 0               \n",
              "                                          \n",
              " Mcnemar's Test P-Value : <2e-16          \n",
              "                                          \n",
              "            Sensitivity : 0.0000          \n",
              "            Specificity : 1.0000          \n",
              "         Pos Pred Value :    NaN          \n",
              "         Neg Pred Value : 0.5018          \n",
              "             Prevalence : 0.4982          \n",
              "         Detection Rate : 0.0000          \n",
              "   Detection Prevalence : 0.0000          \n",
              "      Balanced Accuracy : 0.5000          \n",
              "                                          \n",
              "       'Positive' Class : 0               \n",
              "                                          "
            ]
          },
          "metadata": {}
        }
      ]
    }
  ]
}